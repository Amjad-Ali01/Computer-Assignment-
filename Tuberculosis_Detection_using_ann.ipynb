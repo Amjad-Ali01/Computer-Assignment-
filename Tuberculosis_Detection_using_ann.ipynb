{
 "cells": [
  {
   "cell_type": "code",
   "execution_count": 1,
   "id": "990bc563",
   "metadata": {},
   "outputs": [],
   "source": [
    "import numpy as np\n",
    "import pandas as pd\n",
    "import matplotlib.pyplot as plt \n",
    "import tensorflow as tf \n",
    "import os, shutil"
   ]
  },
  {
   "cell_type": "code",
   "execution_count": 2,
   "id": "4250b521",
   "metadata": {},
   "outputs": [],
   "source": [
    "original_dataset_dir = \"/OneDrive/Desktop/TB_Chest_Radiography_Database\"\n",
    "base_dir = 'Normal_and_Tuberculosis_small'\n",
    "train_dir = os.path.join(base_dir, 'train')\n",
    "\n",
    "\n",
    "validation_dir = os.path.join(base_dir, 'validation')\n",
    "\n",
    "\n",
    "test_dir = os.path.join(base_dir, 'test')\n",
    "train_Normal_dir = os.path.join(train_dir, 'Normal')\n",
    "train_Tuberculosis_dir = os.path.join(train_dir, 'Tuberculosis')\n",
    "validation_Normal_dir = os.path.join(validation_dir, 'Normal')\n",
    "validation_Tuberculosis_dir = os.path.join(validation_dir, 'Tuberculosis')\n",
    "test_Normal_dir = os.path.join(test_dir, 'Normal')\n",
    "test_Tuberculosis_dir = os.path.join(test_dir, 'Tuberculosis')"
   ]
  },
  {
   "cell_type": "code",
   "execution_count": 4,
   "id": "51a09024",
   "metadata": {},
   "outputs": [],
   "source": [
    "from tensorflow.keras import layers\n",
    "from tensorflow.keras import models\n",
    "\n",
    "model = models.Sequential()\n",
    "model.add(layers.Dense(512, activation='relu', input_shape=(150,150,3)))\n",
    "model.add(layers.Flatten())\n",
    "model.add(layers.Dense(1, activation='sigmoid'))"
   ]
  },
  {
   "cell_type": "code",
   "execution_count": 5,
   "id": "35bbe786",
   "metadata": {},
   "outputs": [],
   "source": [
    "from keras import optimizers\n",
    "\n",
    "model.compile(loss='binary_crossentropy',\n",
    "              optimizer=optimizers.RMSprop(lr=1e-4),\n",
    "              metrics=['acc'])"
   ]
  },
  {
   "cell_type": "code",
   "execution_count": 6,
   "id": "f71b4288",
   "metadata": {},
   "outputs": [
    {
     "name": "stdout",
     "output_type": "stream",
     "text": [
      "Found 2700 images belonging to 2 classes.\n",
      "Found 1700 images belonging to 2 classes.\n"
     ]
    }
   ],
   "source": [
    "from keras.preprocessing.image import ImageDataGenerator\n",
    "\n",
    "train_datagen = ImageDataGenerator(rescale=1./255)\n",
    "test_datagen = ImageDataGenerator(rescale=1./255)\n",
    "\n",
    "train_generator = train_datagen.flow_from_directory(\n",
    "        train_dir,\n",
    "        target_size=(150, 150),\n",
    "        batch_size=20,\n",
    "        class_mode='binary')\n",
    "\n",
    "\n",
    "validation_generator = test_datagen.flow_from_directory(\n",
    "        validation_dir,\n",
    "         target_size=(150, 150),\n",
    "         batch_size=20,\n",
    "         class_mode='binary')"
   ]
  },
  {
   "cell_type": "code",
   "execution_count": 8,
   "id": "3a150c54",
   "metadata": {},
   "outputs": [
    {
     "name": "stdout",
     "output_type": "stream",
     "text": [
      "Epoch 1/50\n",
      "100/100 [==============================] - 190s 2s/step - loss: 1.6648 - acc: 0.8180 - val_loss: 0.5130 - val_acc: 0.9090\n",
      "Epoch 2/50\n",
      "100/100 [==============================] - 205s 2s/step - loss: 1.0184 - acc: 0.8700 - val_loss: 2.2131 - val_acc: 0.7840\n",
      "Epoch 3/50\n",
      "100/100 [==============================] - 202s 2s/step - loss: 0.7262 - acc: 0.8970 - val_loss: 0.2013 - val_acc: 0.9580\n",
      "Epoch 4/50\n",
      "100/100 [==============================] - 197s 2s/step - loss: 0.4804 - acc: 0.9275 - val_loss: 0.4061 - val_acc: 0.9050\n",
      "Epoch 5/50\n",
      "100/100 [==============================] - 255s 3s/step - loss: 0.4269 - acc: 0.9235 - val_loss: 0.1303 - val_acc: 0.9740\n",
      "Epoch 6/50\n",
      "100/100 [==============================] - 321s 3s/step - loss: 0.2925 - acc: 0.9390 - val_loss: 0.1305 - val_acc: 0.9760\n",
      "Epoch 7/50\n",
      "100/100 [==============================] - 350s 4s/step - loss: 0.1964 - acc: 0.9550 - val_loss: 0.1605 - val_acc: 0.9650\n",
      "Epoch 8/50\n",
      "100/100 [==============================] - 332s 3s/step - loss: 0.1744 - acc: 0.9560 - val_loss: 0.1103 - val_acc: 0.9790\n",
      "Epoch 9/50\n",
      "100/100 [==============================] - 320s 3s/step - loss: 0.1614 - acc: 0.9615 - val_loss: 0.1137 - val_acc: 0.9700\n",
      "Epoch 10/50\n",
      "100/100 [==============================] - 349s 3s/step - loss: 0.1043 - acc: 0.9675 - val_loss: 0.0628 - val_acc: 0.9800\n",
      "Epoch 11/50\n",
      "100/100 [==============================] - 397s 4s/step - loss: 0.0753 - acc: 0.9760 - val_loss: 0.1211 - val_acc: 0.9760\n",
      "Epoch 12/50\n",
      "100/100 [==============================] - 413s 4s/step - loss: 0.0678 - acc: 0.9800 - val_loss: 0.1084 - val_acc: 0.9660\n",
      "Epoch 13/50\n",
      "100/100 [==============================] - 378s 4s/step - loss: 0.0616 - acc: 0.9785 - val_loss: 0.0802 - val_acc: 0.9820\n",
      "Epoch 14/50\n",
      "100/100 [==============================] - 351s 4s/step - loss: 0.0533 - acc: 0.9830 - val_loss: 0.0587 - val_acc: 0.9890\n",
      "Epoch 15/50\n",
      "100/100 [==============================] - 356s 4s/step - loss: 0.0459 - acc: 0.9840 - val_loss: 0.1031 - val_acc: 0.9540\n",
      "Epoch 16/50\n",
      "100/100 [==============================] - 335s 3s/step - loss: 0.0424 - acc: 0.9815 - val_loss: 0.0544 - val_acc: 0.9860\n",
      "Epoch 17/50\n",
      "100/100 [==============================] - 355s 4s/step - loss: 0.0346 - acc: 0.9885 - val_loss: 0.0281 - val_acc: 0.9920\n",
      "Epoch 18/50\n",
      "100/100 [==============================] - 390s 4s/step - loss: 0.0348 - acc: 0.9890 - val_loss: 0.0555 - val_acc: 0.9860\n",
      "Epoch 19/50\n",
      "100/100 [==============================] - 358s 4s/step - loss: 0.0360 - acc: 0.9885 - val_loss: 0.0660 - val_acc: 0.9900\n",
      "Epoch 20/50\n",
      "100/100 [==============================] - 335s 3s/step - loss: 0.0192 - acc: 0.9905 - val_loss: 0.0812 - val_acc: 0.9860\n",
      "Epoch 21/50\n",
      "100/100 [==============================] - 339s 3s/step - loss: 0.0327 - acc: 0.9905 - val_loss: 0.0416 - val_acc: 0.9920\n",
      "Epoch 22/50\n",
      "100/100 [==============================] - 346s 3s/step - loss: 0.0224 - acc: 0.9945 - val_loss: 0.0349 - val_acc: 0.9920\n",
      "Epoch 23/50\n",
      "100/100 [==============================] - 337s 3s/step - loss: 0.0160 - acc: 0.9960 - val_loss: 0.0224 - val_acc: 0.9920\n",
      "Epoch 24/50\n",
      "100/100 [==============================] - 349s 3s/step - loss: 0.0163 - acc: 0.9945 - val_loss: 0.0973 - val_acc: 0.9840\n",
      "Epoch 25/50\n",
      "100/100 [==============================] - 337s 3s/step - loss: 0.0200 - acc: 0.9930 - val_loss: 0.0507 - val_acc: 0.9900\n",
      "Epoch 26/50\n",
      "100/100 [==============================] - 340s 3s/step - loss: 0.0122 - acc: 0.9970 - val_loss: 0.0432 - val_acc: 0.9940\n",
      "Epoch 27/50\n",
      "100/100 [==============================] - 353s 4s/step - loss: 0.0111 - acc: 0.9975 - val_loss: 0.0730 - val_acc: 0.9910\n",
      "Epoch 28/50\n",
      "100/100 [==============================] - 342s 3s/step - loss: 0.0104 - acc: 0.9970 - val_loss: 0.0594 - val_acc: 0.9900\n",
      "Epoch 29/50\n",
      "100/100 [==============================] - 348s 3s/step - loss: 0.0086 - acc: 0.9950 - val_loss: 0.0288 - val_acc: 0.9960\n",
      "Epoch 30/50\n",
      "100/100 [==============================] - 359s 4s/step - loss: 0.0135 - acc: 0.9965 - val_loss: 0.0355 - val_acc: 0.9950\n",
      "Epoch 31/50\n",
      "100/100 [==============================] - 336s 3s/step - loss: 0.0056 - acc: 0.9985 - val_loss: 0.0743 - val_acc: 0.9890\n",
      "Epoch 32/50\n",
      "100/100 [==============================] - 336s 3s/step - loss: 0.0093 - acc: 0.9980 - val_loss: 0.0673 - val_acc: 0.9930\n",
      "Epoch 33/50\n",
      "100/100 [==============================] - 389s 4s/step - loss: 0.0103 - acc: 0.9960 - val_loss: 0.0463 - val_acc: 0.9930\n",
      "Epoch 34/50\n",
      "100/100 [==============================] - 329s 3s/step - loss: 0.0042 - acc: 0.9990 - val_loss: 0.0446 - val_acc: 0.9920\n",
      "Epoch 35/50\n",
      "100/100 [==============================] - 337s 3s/step - loss: 0.0059 - acc: 0.9990 - val_loss: 0.0291 - val_acc: 0.9900\n",
      "Epoch 36/50\n",
      "100/100 [==============================] - 338s 3s/step - loss: 0.0043 - acc: 0.9985 - val_loss: 0.0607 - val_acc: 0.9950\n",
      "Epoch 37/50\n",
      "100/100 [==============================] - 351s 4s/step - loss: 0.0022 - acc: 1.0000 - val_loss: 0.0660 - val_acc: 0.9920\n",
      "Epoch 38/50\n",
      "100/100 [==============================] - 354s 4s/step - loss: 0.0034 - acc: 0.9990 - val_loss: 0.0804 - val_acc: 0.9900\n",
      "Epoch 39/50\n",
      "100/100 [==============================] - 349s 3s/step - loss: 0.0033 - acc: 0.9990 - val_loss: 0.0735 - val_acc: 0.9910\n",
      "Epoch 40/50\n",
      "100/100 [==============================] - 357s 4s/step - loss: 0.0055 - acc: 0.9975 - val_loss: 0.0202 - val_acc: 0.9950\n",
      "Epoch 41/50\n",
      "100/100 [==============================] - 357s 4s/step - loss: 0.0017 - acc: 0.9995 - val_loss: 0.0923 - val_acc: 0.9880\n",
      "Epoch 42/50\n",
      "100/100 [==============================] - 349s 3s/step - loss: 0.0034 - acc: 0.9985 - val_loss: 0.0468 - val_acc: 0.9850\n",
      "Epoch 43/50\n",
      "100/100 [==============================] - 326s 3s/step - loss: 0.0015 - acc: 0.9995 - val_loss: 0.0766 - val_acc: 0.9850\n",
      "Epoch 44/50\n",
      "100/100 [==============================] - 343s 3s/step - loss: 0.0020 - acc: 0.9990 - val_loss: 0.0336 - val_acc: 0.9960\n",
      "Epoch 45/50\n",
      "100/100 [==============================] - 324s 3s/step - loss: 0.0032 - acc: 0.9990 - val_loss: 0.0455 - val_acc: 0.9860\n",
      "Epoch 46/50\n",
      "100/100 [==============================] - 341s 3s/step - loss: 0.0018 - acc: 0.9995 - val_loss: 0.0641 - val_acc: 0.9890\n",
      "Epoch 47/50\n",
      "100/100 [==============================] - 362s 4s/step - loss: 0.0014 - acc: 1.0000 - val_loss: 0.0665 - val_acc: 0.9930\n",
      "Epoch 48/50\n",
      "100/100 [==============================] - 492s 5s/step - loss: 0.0032 - acc: 0.9985 - val_loss: 0.0857 - val_acc: 0.9900\n",
      "Epoch 49/50\n",
      "100/100 [==============================] - 329s 3s/step - loss: 0.0029 - acc: 0.9980 - val_loss: 0.0468 - val_acc: 0.9920\n",
      "Epoch 50/50\n",
      "100/100 [==============================] - 316s 3s/step - loss: 0.0026 - acc: 0.9995 - val_loss: 0.0896 - val_acc: 0.9900\n"
     ]
    }
   ],
   "source": [
    "history = model.fit_generator(\n",
    "        train_generator,\n",
    "        steps_per_epoch=100,\n",
    "        epochs=50,\n",
    "        validation_data=validation_generator,\n",
    "        validation_steps=50)"
   ]
  },
  {
   "cell_type": "code",
   "execution_count": 9,
   "id": "10d73fcc",
   "metadata": {},
   "outputs": [],
   "source": [
    "model.save('Tuberculosis_Detection_using_ann.h5')"
   ]
  },
  {
   "cell_type": "code",
   "execution_count": null,
   "id": "df74cf8f",
   "metadata": {},
   "outputs": [],
   "source": []
  }
 ],
 "metadata": {
  "kernelspec": {
   "display_name": "Python 3",
   "language": "python",
   "name": "python3"
  },
  "language_info": {
   "codemirror_mode": {
    "name": "ipython",
    "version": 3
   },
   "file_extension": ".py",
   "mimetype": "text/x-python",
   "name": "python",
   "nbconvert_exporter": "python",
   "pygments_lexer": "ipython3",
   "version": "3.8.8"
  }
 },
 "nbformat": 4,
 "nbformat_minor": 5
}
